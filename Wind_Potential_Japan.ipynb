{
 "cells": [
  {
   "cell_type": "code",
   "execution_count": null,
   "id": "18bf2733",
   "metadata": {},
   "outputs": [],
   "source": [
    "import json\n",
    "import pandas as pd"
   ]
  },
  {
   "cell_type": "code",
   "execution_count": null,
   "id": "a1df67e6",
   "metadata": {},
   "outputs": [],
   "source": [
    "prefecture = json.load(open(\"jp.json\", 'r', encoding='utf-8'))\n",
    "prefecture['features'][40]"
   ]
  },
  {
   "cell_type": "code",
   "execution_count": null,
   "id": "5c66ca02",
   "metadata": {},
   "outputs": [],
   "source": [
    "prefecture_wind = pd.read_csv(\"Japan_wind_renew.csv\")\n",
    "prefecture_wind.head()"
   ]
  },
  {
   "cell_type": "code",
   "execution_count": null,
   "id": "ce91e5a7",
   "metadata": {},
   "outputs": [],
   "source": [
    "prefecture_wind = prefecture_wind.drop(columns = ['location'])\n",
    "prefecture_wind"
   ]
  },
  {
   "cell_type": "code",
   "execution_count": null,
   "id": "a6cba0be",
   "metadata": {},
   "outputs": [],
   "source": [
    "Hokkaido_df = prefecture_wind[(prefecture_wind['Prefecture'] == \"Hokkaido\")]\n",
    "Hokkaido_df = Hokkaido_df.drop(columns = ['Prefecture'])\n",
    "Hokkaido_df"
   ]
  },
  {
   "cell_type": "code",
   "execution_count": null,
   "id": "cbef4cc6",
   "metadata": {},
   "outputs": [],
   "source": [
    "#Create mean for time column of each region,Since Jan-12 is the second column, we use iloc[:, 1:]\n",
    "mean_val = Hokkaido_df.iloc[:, 1:].mean().round(1)\n",
    "\n",
    "#Create new row\n",
    "hok_row = ['Hokkaido'] + mean_val.tolist()\n",
    "Hokkaido_df.loc[22] = hok_row\n",
    "Hokkaido_df"
   ]
  },
  {
   "cell_type": "code",
   "execution_count": null,
   "id": "0f0aa371",
   "metadata": {},
   "outputs": [],
   "source": []
  },
  {
   "cell_type": "code",
   "execution_count": null,
   "id": "735c4d9b",
   "metadata": {},
   "outputs": [],
   "source": []
  },
  {
   "cell_type": "code",
   "execution_count": null,
   "id": "c6ccaf0a",
   "metadata": {},
   "outputs": [],
   "source": []
  },
  {
   "cell_type": "code",
   "execution_count": null,
   "id": "8b682d60",
   "metadata": {},
   "outputs": [],
   "source": []
  }
 ],
 "metadata": {
  "kernelspec": {
   "display_name": "Python 3 (ipykernel)",
   "language": "python",
   "name": "python3"
  },
  "language_info": {
   "codemirror_mode": {
    "name": "ipython",
    "version": 3
   },
   "file_extension": ".py",
   "mimetype": "text/x-python",
   "name": "python",
   "nbconvert_exporter": "python",
   "pygments_lexer": "ipython3",
   "version": "3.9.7"
  }
 },
 "nbformat": 4,
 "nbformat_minor": 5
}
